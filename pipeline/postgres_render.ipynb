{
 "cells": [
  {
   "cell_type": "code",
   "execution_count": null,
   "metadata": {},
   "outputs": [
    {
     "data": {
      "text/plain": [
       "100"
      ]
     },
     "execution_count": 3,
     "metadata": {},
     "output_type": "execute_result"
    }
   ],
   "source": [
    "import pandas as pd\n",
    "import psycopg2\n",
    "from sqlalchemy import create_engine\n",
    "\n",
    "df = pd.read_csv('./transacoes_cliente.csv')\n",
    "\n",
    "postgres_creds = {\n",
    "    'dbname':\"db\",\n",
    "    'user':\"db\",\n",
    "    'password':\"db\",\n",
    "    'host':\"db\",\n",
    "    'port':\"5432\"\n",
    "}\n",
    "\n",
    "pc = postgres_creds\n",
    "\n",
    "engine = create_engine(f'postgresql://{pc[\"user\"]}:{pc[\"password\"]}@{pc[\"host\"]}:{pc[\"port\"]}/{pc[\"dbname\"]}')\n",
    "\n",
    "df.to_sql('transacoes_clientes', engine, if_exists='replace', index=False)"
   ]
  },
  {
   "cell_type": "code",
   "execution_count": 4,
   "metadata": {},
   "outputs": [
    {
     "data": {
      "application/vnd.microsoft.datawrangler.viewer.v0+json": {
       "columns": [
        {
         "name": "index",
         "rawType": "int64",
         "type": "integer"
        },
        {
         "name": "cliente",
         "rawType": "object",
         "type": "string"
        },
        {
         "name": "data_compra",
         "rawType": "object",
         "type": "string"
        },
        {
         "name": "preco_btc",
         "rawType": "float64",
         "type": "float"
        },
        {
         "name": "quantidade_btc",
         "rawType": "float64",
         "type": "float"
        }
       ],
       "conversionMethod": "pd.DataFrame",
       "ref": "76adbede-9c63-4b63-ba6d-bfa3a7acaf17",
       "rows": [
        [
         "0",
         "Sherry Decker",
         "2025-01-26T00:00:00.000+0000",
         "526338.91",
         "0.75138"
        ],
        [
         "1",
         "Gerald Hensley",
         "2024-12-09T00:00:00.000+0000",
         "663110.3",
         "0.34418"
        ],
        [
         "2",
         "Timothy Duncan",
         "2024-09-26T00:00:00.000+0000",
         "620115.11",
         "0.46826"
        ],
        [
         "3",
         "Matthew Foster",
         "2024-09-19T00:00:00.000+0000",
         "655694.97",
         "1.02724"
        ],
        [
         "4",
         "Jeffrey Chavez",
         "2024-08-19T00:00:00.000+0000",
         "642216.0",
         "0.09623"
        ],
        [
         "5",
         "Angie Henderson",
         "2024-08-03T00:00:00.000+0000",
         "674066.77",
         "0.8185"
        ],
        [
         "6",
         "William Baker",
         "2024-07-21T00:00:00.000+0000",
         "665345.55",
         "0.96962"
        ],
        [
         "7",
         "Richard Aguirre",
         "2024-07-14T00:00:00.000+0000",
         "664987.81",
         "0.65771"
        ],
        [
         "8",
         "Margaret Hawkins DDS",
         "2024-07-08T00:00:00.000+0000",
         "626697.78",
         "1.40505"
        ],
        [
         "9",
         "Holly Wood",
         "2024-06-01T00:00:00.000+0000",
         "622789.83",
         "0.43479"
        ],
        [
         "10",
         "Zachary Hicks",
         "2024-05-08T00:00:00.000+0000",
         "649923.13",
         "1.32714"
        ],
        [
         "11",
         "Patty Perez",
         "2024-04-08T00:00:00.000+0000",
         "607140.25",
         "0.95283"
        ],
        [
         "12",
         "Anthony Rodriguez",
         "2024-03-18T00:00:00.000+0000",
         "645885.19",
         "0.39806"
        ],
        [
         "13",
         "Allison Hill",
         "2024-03-04T00:00:00.000+0000",
         "611133.11",
         "1.11258"
        ],
        [
         "14",
         "Dylan Miller",
         "2024-01-19T00:00:00.000+0000",
         "661851.98",
         "1.2927"
        ],
        [
         "15",
         "Angelica Tucker",
         "2024-01-06T00:00:00.000+0000",
         "629844.48",
         "0.95879"
        ],
        [
         "16",
         "Brian Rodriguez",
         "2023-12-12T00:00:00.000+0000",
         "206234.69",
         "0.9864"
        ],
        [
         "17",
         "Philip Cannon",
         "2023-10-31T00:00:00.000+0000",
         "243651.55",
         "0.5615"
        ],
        [
         "18",
         "Daniel Wagner",
         "2023-08-16T00:00:00.000+0000",
         "315014.98",
         "0.04567"
        ],
        [
         "19",
         "James Ferrell",
         "2023-07-23T00:00:00.000+0000",
         "317098.82",
         "0.87572"
        ],
        [
         "20",
         "Zachary Ferrell",
         "2023-07-01T00:00:00.000+0000",
         "415435.9",
         "0.09238"
        ],
        [
         "21",
         "Brian Ramirez",
         "2023-06-23T00:00:00.000+0000",
         "241532.35",
         "0.10526"
        ],
        [
         "22",
         "Amber Kidd",
         "2023-05-28T00:00:00.000+0000",
         "364387.73",
         "0.36525"
        ],
        [
         "23",
         "Matthew Mcmillan",
         "2023-05-23T00:00:00.000+0000",
         "258788.91",
         "0.89218"
        ],
        [
         "24",
         "Stephanie Ross",
         "2023-05-13T00:00:00.000+0000",
         "460437.64",
         "0.4727"
        ],
        [
         "25",
         "Jessica Holmes",
         "2023-05-13T00:00:00.000+0000",
         "483023.82",
         "0.12939"
        ],
        [
         "26",
         "Denise Jacobs",
         "2023-05-05T00:00:00.000+0000",
         "347290.47",
         "1.40212"
        ],
        [
         "27",
         "Deborah Figueroa",
         "2023-04-26T00:00:00.000+0000",
         "498750.86",
         "0.11082"
        ],
        [
         "28",
         "Connie Lawrence",
         "2023-04-18T00:00:00.000+0000",
         "243628.05",
         "0.97518"
        ],
        [
         "29",
         "Michael Evans",
         "2023-03-27T00:00:00.000+0000",
         "391798.82",
         "0.73052"
        ],
        [
         "30",
         "Abigail Shaffer",
         "2023-02-11T00:00:00.000+0000",
         "314246.34",
         "0.67436"
        ],
        [
         "31",
         "Jessica Callahan",
         "2023-01-18T00:00:00.000+0000",
         "222339.79",
         "1.40334"
        ],
        [
         "32",
         "Brittany Farmer",
         "2023-01-09T00:00:00.000+0000",
         "420280.9",
         "1.15313"
        ],
        [
         "33",
         "Ethan Adams",
         "2022-12-28T00:00:00.000+0000",
         "353320.58",
         "0.24594"
        ],
        [
         "34",
         "Crystal Robinson",
         "2022-12-22T00:00:00.000+0000",
         "365067.02",
         "0.19346"
        ],
        [
         "35",
         "Shane Henderson",
         "2022-12-13T00:00:00.000+0000",
         "413917.92",
         "0.89882"
        ],
        [
         "36",
         "Shannon Jones",
         "2022-12-02T00:00:00.000+0000",
         "399178.57",
         "0.63528"
        ],
        [
         "37",
         "Brent Jordan",
         "2022-10-21T00:00:00.000+0000",
         "264475.57",
         "0.37261"
        ],
        [
         "38",
         "Nathan Maldonado",
         "2022-09-19T00:00:00.000+0000",
         "277925.07",
         "1.13392"
        ],
        [
         "39",
         "Shirley Suarez",
         "2022-08-22T00:00:00.000+0000",
         "414203.88",
         "0.79716"
        ],
        [
         "40",
         "Joshua Blair",
         "2022-06-25T00:00:00.000+0000",
         "126232.56",
         "1.39372"
        ],
        [
         "41",
         "Danny Morgan",
         "2022-06-14T00:00:00.000+0000",
         "381127.44",
         "1.467"
        ],
        [
         "42",
         "Mark Perez",
         "2022-05-01T00:00:00.000+0000",
         "422991.58",
         "0.24853"
        ],
        [
         "43",
         "Tracy House",
         "2022-04-22T00:00:00.000+0000",
         "378399.04",
         "0.28642"
        ],
        [
         "44",
         "Lauren Daniels",
         "2022-03-10T00:00:00.000+0000",
         "199938.06",
         "1.38498"
        ],
        [
         "45",
         "Lisa Hensley",
         "2022-02-25T00:00:00.000+0000",
         "291592.99",
         "1.4597"
        ],
        [
         "46",
         "Fred Smith",
         "2022-02-02T00:00:00.000+0000",
         "121038.5",
         "1.08342"
        ],
        [
         "47",
         "Brittney Phillips",
         "2022-01-12T00:00:00.000+0000",
         "164858.34",
         "0.27605"
        ],
        [
         "48",
         "Amy Silva",
         "2021-12-21T00:00:00.000+0000",
         "577134.24",
         "1.28409"
        ],
        [
         "49",
         "James Brown",
         "2021-08-11T00:00:00.000+0000",
         "358895.79",
         "1.09388"
        ]
       ],
       "shape": {
        "columns": 4,
        "rows": 100
       }
      },
      "text/html": [
       "<div>\n",
       "<style scoped>\n",
       "    .dataframe tbody tr th:only-of-type {\n",
       "        vertical-align: middle;\n",
       "    }\n",
       "\n",
       "    .dataframe tbody tr th {\n",
       "        vertical-align: top;\n",
       "    }\n",
       "\n",
       "    .dataframe thead th {\n",
       "        text-align: right;\n",
       "    }\n",
       "</style>\n",
       "<table border=\"1\" class=\"dataframe\">\n",
       "  <thead>\n",
       "    <tr style=\"text-align: right;\">\n",
       "      <th></th>\n",
       "      <th>cliente</th>\n",
       "      <th>data_compra</th>\n",
       "      <th>preco_btc</th>\n",
       "      <th>quantidade_btc</th>\n",
       "    </tr>\n",
       "  </thead>\n",
       "  <tbody>\n",
       "    <tr>\n",
       "      <th>0</th>\n",
       "      <td>Sherry Decker</td>\n",
       "      <td>2025-01-26T00:00:00.000+0000</td>\n",
       "      <td>526338.91</td>\n",
       "      <td>0.75138</td>\n",
       "    </tr>\n",
       "    <tr>\n",
       "      <th>1</th>\n",
       "      <td>Gerald Hensley</td>\n",
       "      <td>2024-12-09T00:00:00.000+0000</td>\n",
       "      <td>663110.30</td>\n",
       "      <td>0.34418</td>\n",
       "    </tr>\n",
       "    <tr>\n",
       "      <th>2</th>\n",
       "      <td>Timothy Duncan</td>\n",
       "      <td>2024-09-26T00:00:00.000+0000</td>\n",
       "      <td>620115.11</td>\n",
       "      <td>0.46826</td>\n",
       "    </tr>\n",
       "    <tr>\n",
       "      <th>3</th>\n",
       "      <td>Matthew Foster</td>\n",
       "      <td>2024-09-19T00:00:00.000+0000</td>\n",
       "      <td>655694.97</td>\n",
       "      <td>1.02724</td>\n",
       "    </tr>\n",
       "    <tr>\n",
       "      <th>4</th>\n",
       "      <td>Jeffrey Chavez</td>\n",
       "      <td>2024-08-19T00:00:00.000+0000</td>\n",
       "      <td>642216.00</td>\n",
       "      <td>0.09623</td>\n",
       "    </tr>\n",
       "    <tr>\n",
       "      <th>...</th>\n",
       "      <td>...</td>\n",
       "      <td>...</td>\n",
       "      <td>...</td>\n",
       "      <td>...</td>\n",
       "    </tr>\n",
       "    <tr>\n",
       "      <th>95</th>\n",
       "      <td>Christopher Bass</td>\n",
       "      <td>2017-08-21T00:00:00.000+0000</td>\n",
       "      <td>125136.58</td>\n",
       "      <td>0.12109</td>\n",
       "    </tr>\n",
       "    <tr>\n",
       "      <th>96</th>\n",
       "      <td>Judy Baker</td>\n",
       "      <td>2017-08-18T00:00:00.000+0000</td>\n",
       "      <td>34401.96</td>\n",
       "      <td>0.04912</td>\n",
       "    </tr>\n",
       "    <tr>\n",
       "      <th>97</th>\n",
       "      <td>Connor West</td>\n",
       "      <td>2017-05-09T00:00:00.000+0000</td>\n",
       "      <td>112594.79</td>\n",
       "      <td>0.10722</td>\n",
       "    </tr>\n",
       "    <tr>\n",
       "      <th>98</th>\n",
       "      <td>Angela Lopez</td>\n",
       "      <td>2017-03-02T00:00:00.000+0000</td>\n",
       "      <td>126155.54</td>\n",
       "      <td>1.38962</td>\n",
       "    </tr>\n",
       "    <tr>\n",
       "      <th>99</th>\n",
       "      <td>Elizabeth Fowler</td>\n",
       "      <td>2017-02-17T00:00:00.000+0000</td>\n",
       "      <td>90355.14</td>\n",
       "      <td>0.17271</td>\n",
       "    </tr>\n",
       "  </tbody>\n",
       "</table>\n",
       "<p>100 rows × 4 columns</p>\n",
       "</div>"
      ],
      "text/plain": [
       "             cliente                   data_compra  preco_btc  quantidade_btc\n",
       "0      Sherry Decker  2025-01-26T00:00:00.000+0000  526338.91         0.75138\n",
       "1     Gerald Hensley  2024-12-09T00:00:00.000+0000  663110.30         0.34418\n",
       "2     Timothy Duncan  2024-09-26T00:00:00.000+0000  620115.11         0.46826\n",
       "3     Matthew Foster  2024-09-19T00:00:00.000+0000  655694.97         1.02724\n",
       "4     Jeffrey Chavez  2024-08-19T00:00:00.000+0000  642216.00         0.09623\n",
       "..               ...                           ...        ...             ...\n",
       "95  Christopher Bass  2017-08-21T00:00:00.000+0000  125136.58         0.12109\n",
       "96        Judy Baker  2017-08-18T00:00:00.000+0000   34401.96         0.04912\n",
       "97       Connor West  2017-05-09T00:00:00.000+0000  112594.79         0.10722\n",
       "98      Angela Lopez  2017-03-02T00:00:00.000+0000  126155.54         1.38962\n",
       "99  Elizabeth Fowler  2017-02-17T00:00:00.000+0000   90355.14         0.17271\n",
       "\n",
       "[100 rows x 4 columns]"
      ]
     },
     "execution_count": 4,
     "metadata": {},
     "output_type": "execute_result"
    }
   ],
   "source": [
    "df"
   ]
  }
 ],
 "metadata": {
  "kernelspec": {
   "display_name": ".venv",
   "language": "python",
   "name": "python3"
  },
  "language_info": {
   "codemirror_mode": {
    "name": "ipython",
    "version": 3
   },
   "file_extension": ".py",
   "mimetype": "text/x-python",
   "name": "python",
   "nbconvert_exporter": "python",
   "pygments_lexer": "ipython3",
   "version": "3.12.3"
  }
 },
 "nbformat": 4,
 "nbformat_minor": 2
}
